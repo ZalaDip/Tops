{
 "cells": [
  {
   "cell_type": "code",
   "execution_count": 5,
   "metadata": {},
   "outputs": [
    {
     "name": "stdout",
     "output_type": "stream",
     "text": [
      "Updated String is: flyingly\n"
     ]
    }
   ],
   "source": [
    "# 21. WAP to add 'in' at the end of a given string(length should be at least 3). If the given string already \n",
    "# ends with 'ing' then add 'ly' instead if the string length of the given string is less than 3, \n",
    "# leave it unchanged.\n",
    "\n",
    "s = input(\"Enter your string\")\n",
    "\n",
    "if len(s) < 3:\n",
    "    result = s\n",
    "elif s.endswith('ing'):\n",
    "    result = s + 'ly'\n",
    "else:\n",
    "    result = s + 'in'\n",
    "    \n",
    "print(\"Updated String is:\",result)"
   ]
  },
  {
   "cell_type": "code",
   "execution_count": 10,
   "metadata": {},
   "outputs": [
    {
     "name": "stdout",
     "output_type": "stream",
     "text": [
      "Entered string from user is Hell\n",
      "Your resulted string is:  lleH\n"
     ]
    }
   ],
   "source": [
    "# 22. WAP python function to reverse a string if its length is a multiple of 4\n",
    "\n",
    "s = input(\"Enter your string\")\n",
    "print(f\"Entered string from user is {s}\")\n",
    "if len(s) % 4 == 0:\n",
    "    result = s[::-1]\n",
    "else:\n",
    "    result = s\n",
    "print(\"Your resulted string is: \",result)"
   ]
  },
  {
   "cell_type": "code",
   "execution_count": 15,
   "metadata": {},
   "outputs": [
    {
     "name": "stdout",
     "output_type": "stream",
     "text": [
      "Entered string by user: Python\n",
      "Your string is: Pyon\n"
     ]
    }
   ],
   "source": [
    "# 23. WAP to get a string made of the first 2 and the last 2 chats from a given a string. If the string \n",
    "# length is less than 2, return instead of the empty string.\n",
    "\n",
    "s = input(\"Enter your string\")\n",
    "print(f\"Entered string by user: {s}\")\n",
    "if len(s) < 2:\n",
    "    result = \"\"\n",
    "else:\n",
    "    result = s[:2] + s[-2:]\n",
    "print(\"Your string is:\",result)"
   ]
  },
  {
   "cell_type": "code",
   "execution_count": 17,
   "metadata": {},
   "outputs": [
    {
     "name": "stdout",
     "output_type": "stream",
     "text": [
      "After inserting a string new string is:  WelHicome\n"
     ]
    }
   ],
   "source": [
    "# 24. WAP python function to insert a string in the middle of a string.\n",
    "\n",
    "str1 = input(\"Enter original string\")\n",
    "str2 = input(\"Enter insert string\")\n",
    "\n",
    "mid_index = len(str1) // 2\n",
    "\n",
    "result = str1[:mid_index] + str2 + str1[mid_index:]\n",
    "print(f\"After inserting a string new string is: \",result)"
   ]
  },
  {
   "cell_type": "code",
   "execution_count": 9,
   "metadata": {},
   "outputs": [
    {
     "name": "stdout",
     "output_type": "stream",
     "text": [
      "[5, 4, 3, 2, 1]\n"
     ]
    }
   ],
   "source": [
    "# 25. What is list? How will you reverse a list?\n",
    "\n",
    "# List:- It is a datatype where you can add multiple values or items under a single name.\n",
    "\n",
    "list = [1,2,3,4,5]\n",
    "list.reverse()\n",
    "print(list)"
   ]
  },
  {
   "cell_type": "code",
   "execution_count": 10,
   "metadata": {},
   "outputs": [
    {
     "name": "stdout",
     "output_type": "stream",
     "text": [
      "[1, 2, 3, 4]\n"
     ]
    }
   ],
   "source": [
    "# 26. How will you remove last object from a list?\n",
    "\n",
    "a = [1,2,3,4,5]\n",
    "a.pop()\n",
    "print(a)"
   ]
  },
  {
   "cell_type": "code",
   "execution_count": 13,
   "metadata": {},
   "outputs": [
    {
     "data": {
      "text/plain": [
       "25"
      ]
     },
     "execution_count": 13,
     "metadata": {},
     "output_type": "execute_result"
    }
   ],
   "source": [
    "# 27. Suppose list1 is [2,33,222,14,25], what is list1[-1]?\n",
    "\n",
    "list1 = [2,33,222,14,25]\n",
    "list1[-1]"
   ]
  },
  {
   "cell_type": "code",
   "execution_count": 16,
   "metadata": {},
   "outputs": [
    {
     "name": "stdout",
     "output_type": "stream",
     "text": [
      "[1, 2, 3, 4]\n",
      "[1, 2, 3, 4, [4, 5]]\n",
      "[6, 7, 8, 9]\n",
      "[6, 7, 8, 9, 10, 11]\n"
     ]
    }
   ],
   "source": [
    "''' \n",
    "28. Differentiate between append() and extend() methods?\n",
    "\n",
    "append():-  1. Add a single element to the end of list\n",
    "            2. It takes one argument and add it as a single element at the end of list\n",
    "            \n",
    "extend():-  1. Add a multiple element to the end of a list\n",
    "            2. It takes an iterable and add each individual element at the end of list\n",
    "'''\n",
    "\n",
    "# append() example\n",
    "a = [1,2,3,4]\n",
    "print(a)\n",
    "a.append([4,5])\n",
    "print(a)\n",
    "\n",
    "# extend() example\n",
    "b = [6,7,8,9]\n",
    "print(b)\n",
    "b.extend([10,11])\n",
    "print(b)"
   ]
  },
  {
   "cell_type": "code",
   "execution_count": 18,
   "metadata": {},
   "outputs": [
    {
     "name": "stdout",
     "output_type": "stream",
     "text": [
      "10\n",
      "1\n",
      "55\n"
     ]
    }
   ],
   "source": [
    "# 29. WAP python function to get the largest number, smallest number and sum of all from a list.\n",
    "\n",
    "list = [1,2,3,4,5,6,7,8,9,10]\n",
    "\n",
    "print(max(list)) #-> get largest number\n",
    "print(min(list)) #-> get smallest number\n",
    "print(sum(list)) #-> sum of all list elements"
   ]
  },
  {
   "cell_type": "code",
   "execution_count": 20,
   "metadata": {},
   "outputs": [
    {
     "name": "stdout",
     "output_type": "stream",
     "text": [
      "True\n",
      "False\n"
     ]
    }
   ],
   "source": [
    "# 30. How will you compare two lists?\n",
    "\n",
    "a = [1,2,3]\n",
    "b = [1,2,3]\n",
    "print(a == b)\n",
    "\n",
    "c = [4,5,6]\n",
    "d = [7,8,9]\n",
    "print(c == d)"
   ]
  }
 ],
 "metadata": {
  "kernelspec": {
   "display_name": "Python 3",
   "language": "python",
   "name": "python3"
  },
  "language_info": {
   "codemirror_mode": {
    "name": "ipython",
    "version": 3
   },
   "file_extension": ".py",
   "mimetype": "text/x-python",
   "name": "python",
   "nbconvert_exporter": "python",
   "pygments_lexer": "ipython3",
   "version": "3.13.2"
  }
 },
 "nbformat": 4,
 "nbformat_minor": 2
}
