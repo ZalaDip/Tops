{
 "cells": [
  {
   "cell_type": "code",
   "execution_count": 10,
   "metadata": {},
   "outputs": [
    {
     "name": "stdout",
     "output_type": "stream",
     "text": [
      "The list is written in sample1.txt check it\n"
     ]
    }
   ],
   "source": [
    "# 81. Write a python program to write a list to a file.\n",
    "\n",
    "ls1 = [\"hello\",\"welcome\",\"to\",\"python\",\"programming\"]\n",
    "\n",
    "with open(\"sample1.txt\",'w') as f:\n",
    "    for i in ls1:\n",
    "        f.write(i + \"\\n\")\n",
    "print(\"The list is written in sample1.txt check it\")"
   ]
  },
  {
   "cell_type": "code",
   "execution_count": 11,
   "metadata": {},
   "outputs": [
    {
     "name": "stdout",
     "output_type": "stream",
     "text": [
      "File copy to another file sample2.txt\n"
     ]
    }
   ],
   "source": [
    "# 82. Write a python program to copy the contents of a file to aother file.\n",
    "\n",
    "with open(\"sample1.txt\",'r') as input_f, open(\"sample2.txt\",'w') as output_f:\n",
    "    for line in input_f:\n",
    "        output_f.write(line)\n",
    "print(\"File copy to another file sample2.txt\")"
   ]
  },
  {
   "cell_type": "markdown",
   "metadata": {},
   "source": [
    "#### 83. Explain exception handling? What is an error in python?\n",
    "\n",
    "Exception handling: It handles errors that occur during the execution of a program.\n",
    "\n",
    "Error: It is an issue in a program that prevents the program from completing its task."
   ]
  },
  {
   "cell_type": "markdown",
   "metadata": {},
   "source": [
    "#### 84. How many except statement can try-except block have? Name some built-in exception classes.\n",
    "\n",
    "1. There has to be at least one except statement in try-except block.\n",
    "\n",
    "Built-in Exception: 1. ArithmaticError, 2. ZeroDivisionError, 3. IndexError,\n",
    "                    4. KeyError, 5. AttributeError"
   ]
  },
  {
   "cell_type": "markdown",
   "metadata": {},
   "source": [
    "#### 85. When will the else part of try-except-else be executed?\n",
    "\n",
    "The else part of try-except-else block in python is executed only if no exceptions are raised within the try block."
   ]
  },
  {
   "cell_type": "markdown",
   "metadata": {},
   "source": [
    "#### 86. Can one block of except statements handle multiple exception?\n",
    "\n",
    "Yes, A single except block in python can handle multiple exceptions by specifying them as a tuple within the except statement. This allows you to handle different exceptions with the same block of code."
   ]
  },
  {
   "cell_type": "markdown",
   "metadata": {},
   "source": [
    "#### 87. When is finally block executed?\n",
    "\n",
    "A finally block always executes, whether an exception is thrown."
   ]
  },
  {
   "cell_type": "markdown",
   "metadata": {},
   "source": [
    "#### 88. What happens when \"1\" == 1 is executed?\n",
    "\n",
    "In python thing inside '' or \"\" are considered as a string. So for condition \"1\" == 1 returns false."
   ]
  },
  {
   "cell_type": "code",
   "execution_count": 14,
   "metadata": {},
   "outputs": [
    {
     "name": "stdout",
     "output_type": "stream",
     "text": [
      "division by zero\n",
      "Execution over, Good Bye!\n"
     ]
    }
   ],
   "source": [
    "# 89. How do you Handle Exceptions with Try/Except/Finally in python? Explain with coding snippets.\n",
    "\n",
    "try:\n",
    "    x = 10 / 0\n",
    "except ZeroDivisionError as e:\n",
    "    print(e)\n",
    "finally:\n",
    "    print(\"Execution over, Good Bye!\")"
   ]
  },
  {
   "cell_type": "code",
   "execution_count": 1,
   "metadata": {},
   "outputs": [
    {
     "name": "stdout",
     "output_type": "stream",
     "text": [
      "You entered odd number: 5\n",
      "Execution over, Good Bye!\n"
     ]
    }
   ],
   "source": [
    "# 90. Write a python program that user to enter only odd numbers, else will raise an exception.\n",
    "\n",
    "while True:\n",
    "    try:\n",
    "        num = int(input(\"Enter number\"))\n",
    "        if num % 2 == 0:\n",
    "            raise ValueError(\"The entered number is even, so enter odd number.\")\n",
    "        print(f\"You entered odd number: {num}\")\n",
    "        break\n",
    "    except ValueError as ve:\n",
    "        print(ve)\n",
    "    finally:\n",
    "        print(\"Execution over, Good Bye!\")"
   ]
  },
  {
   "cell_type": "code",
   "execution_count": null,
   "metadata": {},
   "outputs": [],
   "source": []
  }
 ],
 "metadata": {
  "kernelspec": {
   "display_name": "Python 3",
   "language": "python",
   "name": "python3"
  },
  "language_info": {
   "codemirror_mode": {
    "name": "ipython",
    "version": 3
   },
   "file_extension": ".py",
   "mimetype": "text/x-python",
   "name": "python",
   "nbconvert_exporter": "python",
   "pygments_lexer": "ipython3",
   "version": "3.13.2"
  }
 },
 "nbformat": 4,
 "nbformat_minor": 2
}
