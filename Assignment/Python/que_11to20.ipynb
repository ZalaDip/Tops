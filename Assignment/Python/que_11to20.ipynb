{
 "cells": [
  {
   "cell_type": "code",
   "execution_count": null,
   "metadata": {},
   "outputs": [
    {
     "name": "stdout",
     "output_type": "stream",
     "text": [
      "The letter a is vowel\n"
     ]
    }
   ],
   "source": [
    "# 11. WAP to test whether a passed letter is a vowel or not.\n",
    "\n",
    "letter = input(\"Enter letter\")\n",
    "letter = letter.lower()\n",
    "\n",
    "if letter == 'a' or letter == 'e' or letter == 'i' or letter == 'o' or letter == 'u':\n",
    "    print(f\"The letter {letter} is vowel\")\n",
    "else:\n",
    "    print(f\"The letter {letter} is not vowel\")"
   ]
  },
  {
   "cell_type": "code",
   "execution_count": 9,
   "metadata": {},
   "outputs": [
    {
     "name": "stdout",
     "output_type": "stream",
     "text": [
      "Entered 1st number by user: 12\n",
      "Entered 1st number by user: 12\n",
      "Entered 1st number by user: 13\n",
      "Sum will be zero\n"
     ]
    }
   ],
   "source": [
    "# 12. WAP to sum of three given integers. However, if two values are equal sum will be zero.\n",
    "\n",
    "sum = 0\n",
    "a = int(input(\"Enter 1st number\"))\n",
    "b = int(input(\"Enter 2nd number\"))\n",
    "c = int(input(\"Enter 3rd number\"))\n",
    "\n",
    "print(f\"Entered 1st number by user: {a}\")\n",
    "print(f\"Entered 1st number by user: {b}\")\n",
    "print(f\"Entered 1st number by user: {c}\")\n",
    "\n",
    "if a == b or b == c or a == c:\n",
    "    print(\"Sum will be zero\")\n",
    "else:\n",
    "    sum = a + b + c\n",
    "    print(f\"Sum of three integers are: {sum}\")"
   ]
  },
  {
   "cell_type": "code",
   "execution_count": 14,
   "metadata": {},
   "outputs": [
    {
     "name": "stdout",
     "output_type": "stream",
     "text": [
      "Entered a value by user: 2\n",
      "Entered b value by user: 3\n",
      "True\n"
     ]
    }
   ],
   "source": [
    "# 13. WAP that will return true if the two given integer values are equal or their sum or difference is 5.\n",
    "\n",
    "a = int(input(\"Enter 1st number\"))\n",
    "b = int(input(\"Enter 2nd number\"))\n",
    "\n",
    "print(f\"Entered a value by user: {a}\")\n",
    "print(f\"Entered b value by user: {b}\")\n",
    "\n",
    "if a == b or a + b == 5 or a - b == 5:\n",
    "    print(True)\n",
    "else:\n",
    "    print(False)"
   ]
  },
  {
   "cell_type": "code",
   "execution_count": 17,
   "metadata": {},
   "outputs": [
    {
     "name": "stdout",
     "output_type": "stream",
     "text": [
      "Sum of the first 6 positive integers: 21\n"
     ]
    }
   ],
   "source": [
    "# 14. WAP to sum of the first n positive integers.\n",
    "\n",
    "n = int(input(\"Enter a positive integer\"))\n",
    "\n",
    "if n > 0:\n",
    "    sum_of_num = 0\n",
    "    for i in range(1,n+1):\n",
    "        sum_of_num += i\n",
    "    print(f\"Sum of the first {n} positive integers: {sum_of_num}\")"
   ]
  },
  {
   "cell_type": "code",
   "execution_count": 21,
   "metadata": {},
   "outputs": [
    {
     "name": "stdout",
     "output_type": "stream",
     "text": [
      "User entered string is: python\n",
      "The length of the entered string is: 6\n"
     ]
    }
   ],
   "source": [
    "# 15. WAP to calculate the length of a string.\n",
    "\n",
    "string = input(\"Enter a string\")\n",
    "print(f\"User entered string is: {string}\")\n",
    "\n",
    "len_of_str = len(string)\n",
    "\n",
    "print(f\"The length of the entered string is: {len_of_str}\")"
   ]
  },
  {
   "cell_type": "code",
   "execution_count": 2,
   "metadata": {},
   "outputs": [
    {
     "name": "stdout",
     "output_type": "stream",
     "text": [
      "The given string have 36 number of characters\n"
     ]
    }
   ],
   "source": [
    "# 16. WAP to count the number of characters(character frequency) in a string.\n",
    "string = \"Hello, Welcome to Python Programming\"\n",
    "count = 0\n",
    "\n",
    "for i in string:\n",
    "    count+=1\n",
    "print(f\"The given string have {count} number of characters\")"
   ]
  },
  {
   "cell_type": "markdown",
   "metadata": {},
   "source": [
    "### 17. What are negative indexes and why are they used?\n",
    "\n",
    "Negative indexes are used to access elements in list, tuple or other indexable containers from the end instead of beginning."
   ]
  },
  {
   "cell_type": "code",
   "execution_count": 2,
   "metadata": {},
   "outputs": [
    {
     "name": "stdout",
     "output_type": "stream",
     "text": [
      "Main string entered by user: hello world, hello python programming lecture,hello python\n",
      "Substring entered by user: hello\n",
      "The substring hello repeat 3 times in main string\n"
     ]
    }
   ],
   "source": [
    "# 18. WAP to count the occurances of a substring in a string.\n",
    "\n",
    "main_str = input(\"Enter main string\")\n",
    "sub_str = input(\"Enter sub string\")\n",
    "print(f\"Main string entered by user: {main_str}\")\n",
    "print(f\"Substring entered by user: {sub_str}\")\n",
    "\n",
    "count_occurances = main_str.count(sub_str)\n",
    "print(f\"The substring {sub_str} repeat {count_occurances} times in main string\")"
   ]
  },
  {
   "cell_type": "code",
   "execution_count": 7,
   "metadata": {},
   "outputs": [
    {
     "name": "stdout",
     "output_type": "stream",
     "text": [
      "Entered sentence from user: python language is easy to learn and python is good language\n",
      "Word Occurances:\n",
      "'python':2\n",
      "'language':2\n",
      "'is':2\n",
      "'easy':1\n",
      "'to':1\n",
      "'learn':1\n",
      "'and':1\n",
      "'good':1\n"
     ]
    }
   ],
   "source": [
    "# 19. WAP to count the occurances of each word in a given sentence.\n",
    "\n",
    "sentence = input(\"Enter sentence\")\n",
    "print(f\"Entered sentence from user: {sentence}\")\n",
    "\n",
    "words = sentence.split() #-> sentence divide into words using split() method\n",
    "word_count = {} #-> Empty dictionary for words count\n",
    "\n",
    "for word in words:\n",
    "    if word in word_count:\n",
    "        word_count[word] += 1\n",
    "    else:\n",
    "        word_count[word] = 1\n",
    "print(\"Word Occurances:\")\n",
    "for word, count in word_count.items():\n",
    "    print(f\"'{word}':{count}\")"
   ]
  },
  {
   "cell_type": "code",
   "execution_count": 6,
   "metadata": {},
   "outputs": [
    {
     "name": "stdout",
     "output_type": "stream",
     "text": [
      "Entered string from user is: Welcome Python\n",
      "Result of string:  Pylcome Wethon\n"
     ]
    }
   ],
   "source": [
    "# 20. WAP to get a single string from two given strings, separated by a space and swap the first two characters \n",
    "# of each string.\n",
    "\n",
    "str1 = input(\"Enter first string\")\n",
    "str2 = input(\"Enter second string\")\n",
    "print(f\"Entered string from user is: {str1} {str2}\")\n",
    "\n",
    "result = str2[:2] + str1[2:] + \" \" + str1[:2] + str2[2:]\n",
    "\n",
    "print(\"Result of string: \",result)"
   ]
  }
 ],
 "metadata": {
  "kernelspec": {
   "display_name": "Python 3",
   "language": "python",
   "name": "python3"
  },
  "language_info": {
   "codemirror_mode": {
    "name": "ipython",
    "version": 3
   },
   "file_extension": ".py",
   "mimetype": "text/x-python",
   "name": "python",
   "nbconvert_exporter": "python",
   "pygments_lexer": "ipython3",
   "version": "3.13.2"
  }
 },
 "nbformat": 4,
 "nbformat_minor": 2
}
