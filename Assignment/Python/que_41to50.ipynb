{
 "cells": [
  {
   "cell_type": "code",
   "execution_count": null,
   "metadata": {},
   "outputs": [
    {
     "name": "stdout",
     "output_type": "stream",
     "text": [
      "Sublist exist\n"
     ]
    }
   ],
   "source": [
    "# 41. WAP to check whether a list contains a sub list.\n",
    "\n",
    "l1 = [2,3,5,8,7,6,9,1]\n",
    "l2 = [8,7,6]\n",
    "\n",
    "count = 0\n",
    "\n",
    "for i in l1:\n",
    "    for j in l2:\n",
    "        if i == j:\n",
    "            count += 1\n",
    "\n",
    "if count == len(l2):\n",
    "    print(\"Sublist exist\")\n",
    "else:\n",
    "    print(\"Sublist does not exist\")"
   ]
  },
  {
   "cell_type": "code",
   "execution_count": 2,
   "metadata": {},
   "outputs": [
    {
     "name": "stdout",
     "output_type": "stream",
     "text": [
      "1\n",
      "2\n",
      "3\n"
     ]
    }
   ],
   "source": [
    "# 42. WAP to split a list into different variables.\n",
    "\n",
    "l = [1,2,3]\n",
    "\n",
    "a,b,c = l\n",
    "print(a)\n",
    "print(b)\n",
    "print(c)"
   ]
  },
  {
   "cell_type": "markdown",
   "metadata": {},
   "source": [
    "##### 43. What is tuple? Difference between list and tuple.\n",
    "\n",
    "Tuple:- It is collection of values or items that is ordered and can't be changed.\n",
    "\n",
    "Difference between List and Tuple:-\n",
    "\n",
    "List:   1. It is mutable\n",
    "        2. Defined with square bracket\n",
    "        3. Used for dynamic collection\n",
    "Tuple:  1. It is immutable\n",
    "        2. Defined with parantheses\n",
    "        3. Used for fixed collection"
   ]
  },
  {
   "cell_type": "code",
   "execution_count": 1,
   "metadata": {},
   "outputs": [
    {
     "name": "stdout",
     "output_type": "stream",
     "text": [
      "(10, 12, 14, 'Python', True, [1, 2, 3, 4])\n"
     ]
    }
   ],
   "source": [
    "# 44. WAP to create a tuple with different data types.\n",
    "\n",
    "t1 = (10,12,14,'Python',True,[1,2,3,4])\n",
    "print(t1)"
   ]
  },
  {
   "cell_type": "code",
   "execution_count": 5,
   "metadata": {},
   "outputs": [
    {
     "name": "stdout",
     "output_type": "stream",
     "text": [
      "List1:  [10, 12, 14]\n",
      "List2:  [11, 13, 15]\n"
     ]
    }
   ],
   "source": [
    "# 45. WAP to unzip a list of tuples into individual lists.\n",
    "\n",
    "list_of_tuple = [(10,11),(12,13),(14,15)]\n",
    "\n",
    "list1,list2 = zip(*list_of_tuple)\n",
    "\n",
    "list1 = list(list1)\n",
    "list2 = list(list2)\n",
    "\n",
    "print(\"List1: \",list1)\n",
    "print(\"List2: \",list2)"
   ]
  },
  {
   "cell_type": "code",
   "execution_count": 1,
   "metadata": {},
   "outputs": [
    {
     "name": "stdout",
     "output_type": "stream",
     "text": [
      "{'name': 'Rajiv', 'age': 20, 'city': 'Mumbai'}\n"
     ]
    }
   ],
   "source": [
    "# 46. WAP to convert a list of tuples into a dictionary.\n",
    "\n",
    "ls_of_tuple = [('name','Rajiv'),('age',20),('city','Mumbai')]\n",
    "\n",
    "dict_result = dict(ls_of_tuple)\n",
    "\n",
    "print(dict_result)"
   ]
  },
  {
   "cell_type": "code",
   "execution_count": 2,
   "metadata": {},
   "outputs": [
    {
     "name": "stdout",
     "output_type": "stream",
     "text": [
      "{'name': 'Priyanshi', 'age': 21, 'city': 'Ahmedabad'}\n"
     ]
    }
   ],
   "source": [
    "# 47. How will you create a dictionary using tuples in python?\n",
    "\n",
    "ls_of_tuple = [('name','Priyanshi'),('age',21),('city','Ahmedabad')]\n",
    "\n",
    "dict_result = dict(ls_of_tuple)\n",
    "\n",
    "print(dict_result)"
   ]
  },
  {
   "cell_type": "code",
   "execution_count": 3,
   "metadata": {},
   "outputs": [
    {
     "name": "stdout",
     "output_type": "stream",
     "text": [
      "Original dictionry: {'a': 3, 'b': 5, 'c': 2}\n",
      "Ascending dictionary:  [2, 3, 5]\n",
      "Descending dictionary:  [5, 3, 2]\n"
     ]
    }
   ],
   "source": [
    "# 48. WAP script to sort(accending and decending) a dictionary by value.\n",
    "\n",
    "dict1 = {'a':3,'b':5,'c':2}\n",
    "print(f\"Original dictionry: {dict1}\")\n",
    "\n",
    "asce_dict = sorted(dict1.values())\n",
    "desc_dict = sorted(dict1.values(),reverse=True)\n",
    "\n",
    "print(\"Ascending dictionary: \",asce_dict)\n",
    "print(\"Descending dictionary: \",desc_dict)"
   ]
  },
  {
   "cell_type": "code",
   "execution_count": null,
   "metadata": {},
   "outputs": [
    {
     "name": "stdout",
     "output_type": "stream",
     "text": [
      "Concatenate new dictionary: {'a': 1, 'b': 2, 'c': 3, 'd': 4, 'e': 5}\n"
     ]
    }
   ],
   "source": [
    "# 49. WAP script to concatenate following dictionaries to create a new one.\n",
    "\n",
    "dict1 = {'a':1,'b':2,'c':3}\n",
    "dict2 = {'c':3,'d':4,'e':5}\n",
    "\n",
    "new_dict = {**dict1,**dict2} #-> Unpacking dictionary here\n",
    "print(\"Concatenate new dictionary:\",new_dict)"
   ]
  },
  {
   "cell_type": "code",
   "execution_count": 9,
   "metadata": {},
   "outputs": [
    {
     "name": "stdout",
     "output_type": "stream",
     "text": [
      "Entered key by user is: python\n",
      "key 'python' exists in a given dictionary\n"
     ]
    }
   ],
   "source": [
    "# 50. WAP Script to check if a given key already exists in a dictionary.\n",
    "\n",
    "mark_dict = {'maths':85,'c++':75,'java':80,'python':94}\n",
    "\n",
    "check_key = input(\"Enter key\")\n",
    "print(f\"Entered key by user is: {check_key}\")\n",
    "\n",
    "if check_key in mark_dict:\n",
    "    print(f\"key '{check_key}' exists in a given dictionary\")\n",
    "else:\n",
    "    print(f\"key '{check_key}' does not exists in a given dictionary\")"
   ]
  },
  {
   "cell_type": "code",
   "execution_count": null,
   "metadata": {},
   "outputs": [],
   "source": []
  }
 ],
 "metadata": {
  "kernelspec": {
   "display_name": "Python 3",
   "language": "python",
   "name": "python3"
  },
  "language_info": {
   "codemirror_mode": {
    "name": "ipython",
    "version": 3
   },
   "file_extension": ".py",
   "mimetype": "text/x-python",
   "name": "python",
   "nbconvert_exporter": "python",
   "pygments_lexer": "ipython3",
   "version": "3.13.2"
  }
 },
 "nbformat": 4,
 "nbformat_minor": 2
}
