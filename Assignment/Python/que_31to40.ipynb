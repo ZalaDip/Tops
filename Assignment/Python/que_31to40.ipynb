{
 "cells": [
  {
   "cell_type": "code",
   "execution_count": 1,
   "metadata": {},
   "outputs": [
    {
     "name": "stdout",
     "output_type": "stream",
     "text": [
      "The number of string count of first and last character are same is: 5\n"
     ]
    }
   ],
   "source": [
    "# 31. WAP to count the number of string where the string length is 2 or more and the first and last character \n",
    "# are same from a given list of strings.\n",
    "\n",
    "str_list = [\"aba\",\"helloh\",'aa','hh','a','h','pythonp']\n",
    "count = 0\n",
    "\n",
    "for string in str_list:\n",
    "    if len(string) >= 2 and string[0] == string[-1]:\n",
    "        count += 1\n",
    "print(f\"The number of string count of first and last character are same is: {count}\")"
   ]
  },
  {
   "cell_type": "code",
   "execution_count": 16,
   "metadata": {},
   "outputs": [
    {
     "name": "stdout",
     "output_type": "stream",
     "text": [
      "This is the list after remove duplicate:  [1, 2, 3, 4, 5, 6, 8, 9]\n"
     ]
    }
   ],
   "source": [
    "# 32. WAP to remove duplicates from a list.\n",
    "\n",
    "my_list = [1,3,4,6,3,2,4,5,8,9,6]\n",
    "\n",
    "list1 = set(my_list)\n",
    "unique_list = [i for i in list1]\n",
    "\n",
    "print(\"This is the list after remove duplicate: \",unique_list)"
   ]
  },
  {
   "cell_type": "code",
   "execution_count": 8,
   "metadata": {},
   "outputs": [
    {
     "name": "stdout",
     "output_type": "stream",
     "text": [
      "The list is empty\n"
     ]
    }
   ],
   "source": [
    "# 33. WAP to check a list is empty or not.\n",
    "\n",
    "a = []\n",
    "if len(a) == 0:\n",
    "    print(\"The list is empty\")\n",
    "else:\n",
    "    print(\"The list is not empty\")"
   ]
  },
  {
   "cell_type": "code",
   "execution_count": 17,
   "metadata": {},
   "outputs": [
    {
     "name": "stdout",
     "output_type": "stream",
     "text": [
      "True\n",
      "Common Element: [3, 4]\n"
     ]
    }
   ],
   "source": [
    "# 34. WAP python function that takes two list and return true if they have at least one common member.\n",
    "\n",
    "a = [1,2,3,4]\n",
    "b = [3,4,5,6]\n",
    "\n",
    "a1 = set(a)\n",
    "b1 = set(b)\n",
    "\n",
    "a1.intersection_update(b1)\n",
    "a1\n",
    "a1 = list(a1)\n",
    "if a1:\n",
    "    print(True)\n",
    "    print(\"Common Element:\",a1)\n",
    "else:\n",
    "    print(False)\n",
    "    print(\"Does not exist common element\")"
   ]
  },
  {
   "cell_type": "code",
   "execution_count": 12,
   "metadata": {},
   "outputs": [
    {
     "name": "stdout",
     "output_type": "stream",
     "text": [
      "First 5 values of square:  [1, 4, 9, 16, 25]\n",
      "Last 5 values of square:  [676, 729, 784, 841, 900]\n"
     ]
    }
   ],
   "source": [
    "# 35. WAP to generate and print a list of first and last 5 elements where the values are square of numbers between 1 and 30.\n",
    "\n",
    "square_num = [i**2 for i in range(1,31)]\n",
    "\n",
    "first_5 = square_num[:5]\n",
    "last_5 = square_num[-5:]\n",
    "\n",
    "print(\"First 5 values of square: \",first_5)\n",
    "print(\"Last 5 values of square: \",last_5)"
   ]
  },
  {
   "cell_type": "code",
   "execution_count": 15,
   "metadata": {},
   "outputs": [
    {
     "name": "stdout",
     "output_type": "stream",
     "text": [
      "[1, 2, 3, 5, 6, 7, 'a', 'python', 'b']\n"
     ]
    }
   ],
   "source": [
    "# 36. WAP python function that takes a list and return a new list with unique elements of the first list.\n",
    "\n",
    "l1 = [1,2,3,'a','python',3,5,2,6,7,'b']\n",
    "\n",
    "l2 = set(l1)\n",
    "unique_new_list = [i for i in l2]\n",
    "print(unique_new_list)"
   ]
  },
  {
   "cell_type": "code",
   "execution_count": null,
   "metadata": {},
   "outputs": [
    {
     "name": "stdout",
     "output_type": "stream",
     "text": [
      "['P', 'y', 't', 'h', 'o', 'n']\n"
     ]
    }
   ],
   "source": [
    "# 37. WAP to convert a list of characters into a string. - doubt\n",
    "\n",
    "l = ['P','y','t','h','o','n']\n",
    "\n",
    "s = str(l)\n",
    "print(s)"
   ]
  },
  {
   "cell_type": "code",
   "execution_count": 25,
   "metadata": {},
   "outputs": [
    {
     "name": "stdout",
     "output_type": "stream",
     "text": [
      "67\n"
     ]
    }
   ],
   "source": [
    "# 38. WAP to select an item randomly from a list.\n",
    "\n",
    "import random\n",
    "\n",
    "l = [10,13,24,35,67,15,47,58]\n",
    "random_item = random.choice(l)\n",
    "print(random_item)"
   ]
  },
  {
   "cell_type": "code",
   "execution_count": null,
   "metadata": {},
   "outputs": [
    {
     "name": "stdout",
     "output_type": "stream",
     "text": [
      "[10, 13, 15, 24, 35, 47, 58, 67]\n",
      "Second Smallest number in list: 13\n"
     ]
    }
   ],
   "source": [
    "# 39. WAP to find the second smallest number in a list.\n",
    "\n",
    "l = [10,13,24,35,67,15,47,58]\n",
    "l.sort()\n",
    "print(l)\n",
    "print(f\"Second Smallest number in list: {l[1]}\")"
   ]
  },
  {
   "cell_type": "code",
   "execution_count": 23,
   "metadata": {},
   "outputs": [
    {
     "name": "stdout",
     "output_type": "stream",
     "text": [
      "Unique values of list:  [1, 2, 3, 4, 5, 6, 7, 9]\n"
     ]
    }
   ],
   "source": [
    "# 40. WAP to get unique values from a list.\n",
    "\n",
    "l = [2,3,7,5,3,4,9,6,7,1]\n",
    "\n",
    "l1 = set(l)\n",
    "unique_value = [i for i in l1]\n",
    "print(\"Unique values of list: \",unique_value)"
   ]
  }
 ],
 "metadata": {
  "kernelspec": {
   "display_name": "Python 3",
   "language": "python",
   "name": "python3"
  },
  "language_info": {
   "codemirror_mode": {
    "name": "ipython",
    "version": 3
   },
   "file_extension": ".py",
   "mimetype": "text/x-python",
   "name": "python",
   "nbconvert_exporter": "python",
   "pygments_lexer": "ipython3",
   "version": "3.13.2"
  }
 },
 "nbformat": 4,
 "nbformat_minor": 2
}
