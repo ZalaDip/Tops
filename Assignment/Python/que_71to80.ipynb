{
 "cells": [
  {
   "cell_type": "markdown",
   "metadata": {},
   "source": [
    "#### 71. What is File function in python? What are keyword to create and write a file.\n",
    "\n",
    "File Function:- It refers to the process of performing operations on a file such as creating,opening,reading,writing and closing it.\n",
    "\n",
    "Create keyword:- f = open(\"filename\",'w')\n",
    "Write file keyword:- f.write(\"anything you want write here\")"
   ]
  },
  {
   "cell_type": "code",
   "execution_count": 5,
   "metadata": {},
   "outputs": [
    {
     "name": "stdout",
     "output_type": "stream",
     "text": [
      "Hello! Welcome to new file\n"
     ]
    }
   ],
   "source": [
    "# 72. Write a python program to read an entire text file.\n",
    "\n",
    "# f = open(\"sample.txt\",'w') #-> create file\n",
    "# f.write(\"Hello! Welcome to new file\")\n",
    "\n",
    "# read the exist file\n",
    "f = open(\"sample.txt\",'r')\n",
    "s = f.read()\n",
    "print(s)\n",
    "f.close()"
   ]
  },
  {
   "cell_type": "code",
   "execution_count": 7,
   "metadata": {},
   "outputs": [
    {
     "name": "stdout",
     "output_type": "stream",
     "text": [
      "Hello! Welcome to new fileHere we are learn file handlingHere we are learn file handling\n"
     ]
    }
   ],
   "source": [
    "# 73. Write a python program to append text to a file and display the text.\n",
    "\n",
    "f = open(\"sample.txt\",'a')\n",
    "f.write(\"Here we are learn file handling\")\n",
    "f = open(\"sample.txt\",'r')\n",
    "s = f.read()\n",
    "print(s)\n",
    "f.close()"
   ]
  },
  {
   "cell_type": "code",
   "execution_count": 9,
   "metadata": {},
   "outputs": [
    {
     "name": "stdout",
     "output_type": "stream",
     "text": [
      "Hello! Welcome to new file\n",
      "\n",
      "Here we are learn file handling\n",
      "\n",
      "Here we are learn file handling\n",
      "\n"
     ]
    }
   ],
   "source": [
    "# 74. Write a python program to read first n lines of a file.\n",
    "n = int(input(\"\\n Enter lines to read: \"))\n",
    "\n",
    "f = open(\"sample.txt\",'r')\n",
    "for i in range(n):\n",
    "    print(f.readline())"
   ]
  },
  {
   "cell_type": "code",
   "execution_count": 12,
   "metadata": {},
   "outputs": [
    {
     "name": "stdout",
     "output_type": "stream",
     "text": [
      "Here we are learn file handling\n",
      "Welcome to Tops Technology\n",
      "Welcome to Ahmedabad"
     ]
    }
   ],
   "source": [
    "# 75. Write a python program to read last n lines of a file.\n",
    "\n",
    "n = int(input(\"Enter lines to read\"))\n",
    "\n",
    "with open(\"sample.txt\",'r') as f:\n",
    "    line = f.readlines()\n",
    "last_n_line = line[-n:]\n",
    "\n",
    "for line in last_n_line:\n",
    "    print(line,end='')"
   ]
  },
  {
   "cell_type": "code",
   "execution_count": 13,
   "metadata": {},
   "outputs": [
    {
     "name": "stdout",
     "output_type": "stream",
     "text": [
      "File lines stored successfully\n"
     ]
    }
   ],
   "source": [
    "# 76. Write a python program to read a file line by line and store it into a file.\n",
    "\n",
    "with open(\"sample.txt\",'r') as input_f, open(\"sample1.txt\",'w') as output_f:\n",
    "    for line in input_f:\n",
    "        output_f.write(line)\n",
    "print(\"File lines stored successfully\")"
   ]
  },
  {
   "cell_type": "code",
   "execution_count": 16,
   "metadata": {},
   "outputs": [
    {
     "name": "stdout",
     "output_type": "stream",
     "text": [
      "['Hello! Welcome to new file\\n', 'Here we are learn file handling\\n', 'Here we are learn file handling\\n', 'Welcome to Tops Technology\\n', 'Welcome to Ahmedabad']\n"
     ]
    }
   ],
   "source": [
    "# 77. Write a python program to read a file line by line and store it into a variable.\n",
    "\n",
    "line_list = []\n",
    "with open(\"sample1.txt\",'r') as f:\n",
    "    for line in f:\n",
    "        line_list.append(line)\n",
    "print(line_list)"
   ]
  },
  {
   "cell_type": "code",
   "execution_count": 17,
   "metadata": {},
   "outputs": [
    {
     "name": "stdout",
     "output_type": "stream",
     "text": [
      "Longest word in your file is: Technology\n"
     ]
    }
   ],
   "source": [
    "# 78. Write a python program to find the longest word.\n",
    "\n",
    "lonest_word = ''\n",
    "max = 0\n",
    "\n",
    "with open(\"sample1.txt\",'r') as f:\n",
    "    for line in f:\n",
    "        words = line.split()\n",
    "        \n",
    "        for word in words:\n",
    "            if len(word) > max:\n",
    "                lonest_word = word\n",
    "                max = len(word)\n",
    "print(f\"Longest word in your file is: {lonest_word}\")"
   ]
  },
  {
   "cell_type": "code",
   "execution_count": 18,
   "metadata": {},
   "outputs": [
    {
     "name": "stdout",
     "output_type": "stream",
     "text": [
      "Total number of lines in text file is: 5\n"
     ]
    }
   ],
   "source": [
    "# 79. Write a python program to count the number of lines in a text file.\n",
    "\n",
    "line_count = 0\n",
    "with open(\"sample1.txt\",'r') as f:\n",
    "    for line in f:\n",
    "        line_count += 1\n",
    "print(f\"Total number of lines in text file is: {line_count}\")"
   ]
  },
  {
   "cell_type": "code",
   "execution_count": 20,
   "metadata": {},
   "outputs": [
    {
     "name": "stdout",
     "output_type": "stream",
     "text": [
      "Counter({'Welcome': 3, 'to': 3, 'file': 3, 'Here': 2, 'we': 2, 'are': 2, 'learn': 2, 'handling': 2, 'Hello!': 1, 'new': 1, 'Tops': 1, 'Technology': 1, 'Ahmedabad': 1})\n"
     ]
    }
   ],
   "source": [
    "# 80. Write a python program to count the frequency of words in a file.\n",
    "\n",
    "from collections import Counter\n",
    "\n",
    "with open(\"sample1.txt\",'r') as f:\n",
    "    count = Counter(f.read().split())\n",
    "print(count)"
   ]
  },
  {
   "cell_type": "code",
   "execution_count": null,
   "metadata": {},
   "outputs": [],
   "source": []
  }
 ],
 "metadata": {
  "kernelspec": {
   "display_name": "Python 3",
   "language": "python",
   "name": "python3"
  },
  "language_info": {
   "codemirror_mode": {
    "name": "ipython",
    "version": 3
   },
   "file_extension": ".py",
   "mimetype": "text/x-python",
   "name": "python",
   "nbconvert_exporter": "python",
   "pygments_lexer": "ipython3",
   "version": "3.13.2"
  }
 },
 "nbformat": 4,
 "nbformat_minor": 2
}
