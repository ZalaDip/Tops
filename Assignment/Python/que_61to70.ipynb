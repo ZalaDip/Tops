{
 "cells": [
  {
   "cell_type": "code",
   "execution_count": 2,
   "metadata": {},
   "outputs": [
    {
     "name": "stdout",
     "output_type": "stream",
     "text": [
      "The factorial of number 6 is: 720\n"
     ]
    }
   ],
   "source": [
    "# 61. Write a Python function to calculate the factorial of a number(a non-negative integer)\n",
    "\n",
    "def factorial(num):\n",
    "    fact = 1\n",
    "    for i in range(1,num+1):\n",
    "        fact *= i\n",
    "    print(f\"The factorial of number {num} is: {fact}\")\n",
    "\n",
    "factorial(6)"
   ]
  },
  {
   "cell_type": "code",
   "execution_count": 4,
   "metadata": {},
   "outputs": [
    {
     "data": {
      "text/plain": [
       "True"
      ]
     },
     "execution_count": 4,
     "metadata": {},
     "output_type": "execute_result"
    }
   ],
   "source": [
    "# 62. Write a python function to check whether a number is in a given range.\n",
    "\n",
    "def in_range(num,start,end):\n",
    "    return start <= num <= end\n",
    "in_range(4,1,6)"
   ]
  },
  {
   "cell_type": "code",
   "execution_count": 5,
   "metadata": {},
   "outputs": [
    {
     "data": {
      "text/plain": [
       "False"
      ]
     },
     "execution_count": 5,
     "metadata": {},
     "output_type": "execute_result"
    }
   ],
   "source": [
    "in_range(23,1,10)"
   ]
  },
  {
   "cell_type": "code",
   "execution_count": 10,
   "metadata": {},
   "outputs": [],
   "source": [
    "# 63. Write a python function to check whether a number is perfect or not.\n",
    "\n",
    "def is_perfect(num):\n",
    "    if num <= 0:\n",
    "        return False\n",
    "        \n",
    "    divisor_sum = 0\n",
    "    for i in range(1,num):\n",
    "        if num % i == 0:\n",
    "            divisor_sum += i\n",
    "    return divisor_sum == num"
   ]
  },
  {
   "cell_type": "code",
   "execution_count": null,
   "metadata": {},
   "outputs": [
    {
     "data": {
      "text/plain": [
       "True"
      ]
     },
     "execution_count": 16,
     "metadata": {},
     "output_type": "execute_result"
    }
   ],
   "source": [
    "is_perfect(6) #-> num 6 divisor are 1,2,3 and this number sum is also 6 so this is perfect number."
   ]
  },
  {
   "cell_type": "code",
   "execution_count": 17,
   "metadata": {},
   "outputs": [
    {
     "data": {
      "text/plain": [
       "True"
      ]
     },
     "execution_count": 17,
     "metadata": {},
     "output_type": "execute_result"
    }
   ],
   "source": [
    "is_perfect(28) #-> num 28 divisor are 1,2,4,7,14 and this number sum is also 28 so this is perfect number."
   ]
  },
  {
   "cell_type": "code",
   "execution_count": 18,
   "metadata": {},
   "outputs": [
    {
     "data": {
      "text/plain": [
       "False"
      ]
     },
     "execution_count": 18,
     "metadata": {},
     "output_type": "execute_result"
    }
   ],
   "source": [
    "is_perfect(48)"
   ]
  },
  {
   "cell_type": "code",
   "execution_count": 19,
   "metadata": {},
   "outputs": [],
   "source": [
    "# 64. Write a python function that checks whether a passed string is pallindrom or not.\n",
    "\n",
    "def check_pallindrome(str):\n",
    "    reversed_str = str[::-1]\n",
    "    print(\"Reversed string: \",reversed_str)\n",
    "    \n",
    "    if str == reversed_str:\n",
    "        print(f\"Entered string {str} is pallindrome\")\n",
    "    else:\n",
    "        print(f\"Entered string {str} is not pallindrome\")"
   ]
  },
  {
   "cell_type": "code",
   "execution_count": 24,
   "metadata": {},
   "outputs": [
    {
     "name": "stdout",
     "output_type": "stream",
     "text": [
      "Reversed string:  madam\n",
      "Entered string madam is pallindrome\n"
     ]
    }
   ],
   "source": [
    "check_pallindrome(\"madam\")"
   ]
  },
  {
   "cell_type": "markdown",
   "metadata": {},
   "source": [
    "#### 65. How many basic types of functions are available in python?\n",
    "\n",
    "1. Built-in function:- print(),sum(),len(),type()\n",
    "2. User define function:- for ex. def product()\n",
    "3. Lambda function"
   ]
  },
  {
   "cell_type": "code",
   "execution_count": 27,
   "metadata": {},
   "outputs": [
    {
     "name": "stdout",
     "output_type": "stream",
     "text": [
      "67\n",
      "python\n"
     ]
    }
   ],
   "source": [
    "# 66. How can you pick a random item from a list or tuple?\n",
    "\n",
    "import random\n",
    "\n",
    "# For List\n",
    "l = [10,13,24,35,67,15,47,58]\n",
    "random_item = random.choice(l)\n",
    "print(random_item)\n",
    "\n",
    "# For Tuple\n",
    "\n",
    "t = (\"hello\",\"python\",\"welcome\",\"java\",\"c++\")\n",
    "random_item_tuple = random.choice(t)\n",
    "print(random_item_tuple)"
   ]
  },
  {
   "cell_type": "code",
   "execution_count": 31,
   "metadata": {},
   "outputs": [
    {
     "name": "stdout",
     "output_type": "stream",
     "text": [
      "17\n"
     ]
    }
   ],
   "source": [
    "# 67. How can you pick a random item from a range?\n",
    "\n",
    "import random\n",
    "\n",
    "from_range = range(1,20)\n",
    "random_item_range = random.choice(from_range)\n",
    "print(random_item_range)"
   ]
  },
  {
   "cell_type": "code",
   "execution_count": 32,
   "metadata": {},
   "outputs": [
    {
     "name": "stdout",
     "output_type": "stream",
     "text": [
      "13\n"
     ]
    }
   ],
   "source": [
    "# 68. How can you get a random number in python?\n",
    "\n",
    "l = [10,13,24,35,67,15,47,58]\n",
    "random_num = random.choice(l)\n",
    "print(random_num)"
   ]
  },
  {
   "cell_type": "code",
   "execution_count": null,
   "metadata": {},
   "outputs": [
    {
     "name": "stdout",
     "output_type": "stream",
     "text": [
      "19\n"
     ]
    }
   ],
   "source": [
    "# 69. How will you set the starting value in generating random numbers?\n",
    "\n",
    "random.seed(10) #-> Here random.seed(value) is used to start with a seed value to generate random number.\n",
    "random_num = random.randint(1,30)\n",
    "print(random_num)"
   ]
  },
  {
   "cell_type": "code",
   "execution_count": 39,
   "metadata": {},
   "outputs": [
    {
     "name": "stdout",
     "output_type": "stream",
     "text": [
      "[7, 6, 4, 5, 3, 8, 2, 1]\n"
     ]
    }
   ],
   "source": [
    "# 70. How will you randomize the items of a list in place?\n",
    "\n",
    "ls1 = [1,2,3,4,5,6,7,8]\n",
    "random.shuffle(ls1)\n",
    "print(ls1)"
   ]
  },
  {
   "cell_type": "code",
   "execution_count": null,
   "metadata": {},
   "outputs": [],
   "source": []
  }
 ],
 "metadata": {
  "kernelspec": {
   "display_name": "Python 3",
   "language": "python",
   "name": "python3"
  },
  "language_info": {
   "codemirror_mode": {
    "name": "ipython",
    "version": 3
   },
   "file_extension": ".py",
   "mimetype": "text/x-python",
   "name": "python",
   "nbconvert_exporter": "python",
   "pygments_lexer": "ipython3",
   "version": "3.13.2"
  }
 },
 "nbformat": 4,
 "nbformat_minor": 2
}
