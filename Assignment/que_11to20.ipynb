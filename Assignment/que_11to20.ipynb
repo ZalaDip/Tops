{
 "cells": [
  {
   "cell_type": "code",
   "execution_count": null,
   "metadata": {},
   "outputs": [
    {
     "name": "stdout",
     "output_type": "stream",
     "text": [
      "The letter a is vowel\n"
     ]
    }
   ],
   "source": [
    "# 11. WAP to test whether a passed letter is a vowel or not.\n",
    "\n",
    "letter = input(\"Enter letter\")\n",
    "letter = letter.lower()\n",
    "\n",
    "if letter == 'a' or letter == 'e' or letter == 'i' or letter == 'o' or letter == 'u':\n",
    "    print(f\"The letter {letter} is vowel\")\n",
    "else:\n",
    "    print(f\"The letter {letter} is not vowel\")"
   ]
  },
  {
   "cell_type": "code",
   "execution_count": 9,
   "metadata": {},
   "outputs": [
    {
     "name": "stdout",
     "output_type": "stream",
     "text": [
      "Entered 1st number by user: 12\n",
      "Entered 1st number by user: 12\n",
      "Entered 1st number by user: 13\n",
      "Sum will be zero\n"
     ]
    }
   ],
   "source": [
    "# 12. WAP to sum of three given integers. However, if two values are equal sum will be zero.\n",
    "\n",
    "sum = 0\n",
    "a = int(input(\"Enter 1st number\"))\n",
    "b = int(input(\"Enter 2nd number\"))\n",
    "c = int(input(\"Enter 3rd number\"))\n",
    "\n",
    "print(f\"Entered 1st number by user: {a}\")\n",
    "print(f\"Entered 1st number by user: {b}\")\n",
    "print(f\"Entered 1st number by user: {c}\")\n",
    "\n",
    "if a == b or b == c or a == c:\n",
    "    print(\"Sum will be zero\")\n",
    "else:\n",
    "    sum = a + b + c\n",
    "    print(f\"Sum of three integers are: {sum}\")"
   ]
  },
  {
   "cell_type": "code",
   "execution_count": 14,
   "metadata": {},
   "outputs": [
    {
     "name": "stdout",
     "output_type": "stream",
     "text": [
      "Entered a value by user: 2\n",
      "Entered b value by user: 3\n",
      "True\n"
     ]
    }
   ],
   "source": [
    "# 13. WAP that will return true if the two given integer values are equal or their sum or difference is 5.\n",
    "\n",
    "a = int(input(\"Enter 1st number\"))\n",
    "b = int(input(\"Enter 2nd number\"))\n",
    "\n",
    "print(f\"Entered a value by user: {a}\")\n",
    "print(f\"Entered b value by user: {b}\")\n",
    "\n",
    "if a == b or a + b == 5 or a - b == 5:\n",
    "    print(True)\n",
    "else:\n",
    "    print(False)"
   ]
  },
  {
   "cell_type": "code",
   "execution_count": 17,
   "metadata": {},
   "outputs": [
    {
     "name": "stdout",
     "output_type": "stream",
     "text": [
      "Sum of the first 6 positive integers: 21\n"
     ]
    }
   ],
   "source": [
    "# 14. WAP to sum of the first n positive integers.\n",
    "\n",
    "n = int(input(\"Enter a positive integer\"))\n",
    "\n",
    "if n > 0:\n",
    "    sum_of_num = 0\n",
    "    for i in range(1,n+1):\n",
    "        sum_of_num += i\n",
    "    print(f\"Sum of the first {n} positive integers: {sum_of_num}\")"
   ]
  },
  {
   "cell_type": "code",
   "execution_count": 21,
   "metadata": {},
   "outputs": [
    {
     "name": "stdout",
     "output_type": "stream",
     "text": [
      "User entered string is: python\n",
      "The length of the entered string is: 6\n"
     ]
    }
   ],
   "source": [
    "# 15. WAP to calculate the length of a string.\n",
    "\n",
    "string = input(\"Enter a string\")\n",
    "print(f\"User entered string is: {string}\")\n",
    "\n",
    "len_of_str = len(string)\n",
    "\n",
    "print(f\"The length of the entered string is: {len_of_str}\")"
   ]
  },
  {
   "cell_type": "code",
   "execution_count": null,
   "metadata": {},
   "outputs": [],
   "source": [
    "# 16. WAP to count the number of characters(character frequency) in a string. - Pending topic"
   ]
  },
  {
   "cell_type": "code",
   "execution_count": 2,
   "metadata": {},
   "outputs": [],
   "source": [
    "# 17. What are negative indexes and why are they used? - Pending topic"
   ]
  },
  {
   "cell_type": "code",
   "execution_count": null,
   "metadata": {},
   "outputs": [],
   "source": [
    "# 18. WAP to count the occurances of a substring in a string. - Pending topic"
   ]
  },
  {
   "cell_type": "code",
   "execution_count": 4,
   "metadata": {},
   "outputs": [],
   "source": [
    "# 19. WAP to count the occurances of each word in a given sentence. - Pending topic"
   ]
  },
  {
   "cell_type": "code",
   "execution_count": 6,
   "metadata": {},
   "outputs": [],
   "source": [
    "# 20. WAP to get a single string from two given strings, separated by a space and swap the first two characters \n",
    "# of each string. - Pending topic"
   ]
  }
 ],
 "metadata": {
  "kernelspec": {
   "display_name": "Python 3",
   "language": "python",
   "name": "python3"
  },
  "language_info": {
   "codemirror_mode": {
    "name": "ipython",
    "version": 3
   },
   "file_extension": ".py",
   "mimetype": "text/x-python",
   "name": "python",
   "nbconvert_exporter": "python",
   "pygments_lexer": "ipython3",
   "version": "3.13.2"
  }
 },
 "nbformat": 4,
 "nbformat_minor": 2
}
