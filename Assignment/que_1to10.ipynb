{
 "cells": [
  {
   "cell_type": "markdown",
   "metadata": {},
   "source": [
    "1. What are the types of Application? \n",
    "    \n",
    "    1. Web Application\n",
    "    2. Mobile Application\n",
    "    3. Desktop Application\n",
    "    4. Enterprise Application\n",
    "    5. Cloud Application\n",
    "    "
   ]
  },
  {
   "cell_type": "markdown",
   "metadata": {},
   "source": [
    "2. What is Programming?\n",
    "\n",
    "    It is the process of creating instruction for a computer to follow the order to perform\n",
    "    specific task and solving the problems."
   ]
  },
  {
   "cell_type": "markdown",
   "metadata": {},
   "source": [
    "3. What is Python?\n",
    "\n",
    "    It is an interpreted, object-oriented, high-level programming language."
   ]
  },
  {
   "cell_type": "code",
   "execution_count": 4,
   "metadata": {},
   "outputs": [
    {
     "name": "stdout",
     "output_type": "stream",
     "text": [
      "Entered number 15 is positive\n"
     ]
    }
   ],
   "source": [
    "# 4. WAP to check if a number is positive, negative or zero.\n",
    "\n",
    "num = int(input(\"Enter number\"))\n",
    "\n",
    "if(num > 0):\n",
    "    print(f\"Entered number {num} is positive\")\n",
    "elif(num < 0):\n",
    "    print(f\"Entered number {num} is negative\")\n",
    "else:\n",
    "    print(\"Entered number is Zero\")"
   ]
  },
  {
   "cell_type": "code",
   "execution_count": 7,
   "metadata": {},
   "outputs": [
    {
     "name": "stdout",
     "output_type": "stream",
     "text": [
      "The factorial of number 7 is: 5040\n"
     ]
    }
   ],
   "source": [
    "# 5. WAP to get the Factorial number of given numbers.\n",
    "\n",
    "num = int(input(\"Enter number\"))\n",
    "factorial = 1\n",
    "\n",
    "for i in range(1,num+1):\n",
    "    factorial *= i\n",
    "print(f\"The factorial of number {num} is: {factorial}\")"
   ]
  },
  {
   "cell_type": "code",
   "execution_count": 9,
   "metadata": {},
   "outputs": [
    {
     "name": "stdout",
     "output_type": "stream",
     "text": [
      "Fibonacci series upto 16 term\n",
      "0 1 1 2 3 5 8 13 21 34 55 89 144 233 377 610 "
     ]
    }
   ],
   "source": [
    "# 6. WAP to get the fibonacci series of given range.\n",
    "\n",
    "num = int(input(\"Enter nth term of fibonacci series\"))\n",
    "a = 0\n",
    "b = 1\n",
    "count = 0\n",
    "print(f\"Fibonacci series upto\",num,\"term\")\n",
    "\n",
    "while count < num:\n",
    "    print(a,end=\" \")\n",
    "    a, b = b, a + b\n",
    "    count += 1"
   ]
  },
  {
   "cell_type": "markdown",
   "metadata": {},
   "source": [
    "7. How memory is managed in python?\n",
    "\n",
    "    Python uses a private heap, reference counting, and garbage collection to manage memory."
   ]
  },
  {
   "cell_type": "markdown",
   "metadata": {},
   "source": [
    "8. What is the purpose continuing statement in python?\n",
    "\n",
    "    Continue statement is used to skip the remaining code inside a loop(for or while) for the current itteration only."
   ]
  },
  {
   "cell_type": "code",
   "execution_count": 5,
   "metadata": {},
   "outputs": [
    {
     "name": "stdout",
     "output_type": "stream",
     "text": [
      "a value is: 10\n",
      "b value is: 14\n",
      "After swap 1st number: 14\n",
      "After swap 2nd number: 10\n",
      "a value is: 12\n",
      "b value is: 15\n",
      "After swap 1st number: 15\n",
      "After swap 2nd number: 12\n"
     ]
    }
   ],
   "source": [
    "# 9. WAP that swap two numbers with temp variable and without temp variable.\n",
    "\n",
    "# Without temp variable\n",
    "a = int(input(\"Enter 1st number\"))\n",
    "b = int(input(\"Enter 2nd number\"))\n",
    "print(f\"a value is: {a}\")\n",
    "print(f\"b value is: {b}\")\n",
    "\n",
    "a = a + b #-> add both number and assign in a\n",
    "b = a - b #-> substract b from new value of a\n",
    "a = a - b #-> substract new value of b from a\n",
    "\n",
    "print(\"After swap 1st number:\",a)\n",
    "print(\"After swap 2nd number:\",b)\n",
    "\n",
    "# With temp variable\n",
    "\n",
    "a = int(input(\"Enter 1st number\"))\n",
    "b = int(input(\"Enter 2nd number\"))\n",
    "print(f\"a value is: {a}\")\n",
    "print(f\"b value is: {b}\")\n",
    "\n",
    "temp = a\n",
    "a = b\n",
    "b = temp\n",
    "\n",
    "print(\"After swap 1st number:\",a)\n",
    "print(\"After swap 2nd number:\",b)"
   ]
  },
  {
   "cell_type": "code",
   "execution_count": 9,
   "metadata": {},
   "outputs": [
    {
     "name": "stdout",
     "output_type": "stream",
     "text": [
      "Entered number from the user is: 14\n",
      "Number 14 is Even number\n"
     ]
    }
   ],
   "source": [
    "# 10. WAP to find whether a given number is even or odd, print out an appropriate message to user.\n",
    "\n",
    "num = int(input(\"Enter number\"))\n",
    "print(f\"Entered number from the user is: {num}\")\n",
    "\n",
    "if num % 2 == 0:\n",
    "    print(f\"Number {num} is Even number\")\n",
    "else:\n",
    "    print(f\"Number {num} is Odd number\")"
   ]
  }
 ],
 "metadata": {
  "kernelspec": {
   "display_name": "Python 3",
   "language": "python",
   "name": "python3"
  },
  "language_info": {
   "codemirror_mode": {
    "name": "ipython",
    "version": 3
   },
   "file_extension": ".py",
   "mimetype": "text/x-python",
   "name": "python",
   "nbconvert_exporter": "python",
   "pygments_lexer": "ipython3",
   "version": "3.13.2"
  }
 },
 "nbformat": 4,
 "nbformat_minor": 2
}
